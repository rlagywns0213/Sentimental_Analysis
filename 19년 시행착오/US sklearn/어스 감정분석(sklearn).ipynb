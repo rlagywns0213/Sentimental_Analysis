{
 "cells": [
  {
   "cell_type": "code",
   "execution_count": 2,
   "metadata": {},
   "outputs": [],
   "source": [
    "from konlpy.tag import Twitter\n",
    "\n",
    "twitter = Twitter()"
   ]
  },
  {
   "cell_type": "code",
   "execution_count": 5,
   "metadata": {},
   "outputs": [],
   "source": [
    "url = 'https://movie.naver.com/movie/bi/mi/pointWriteFormList.nhn?code=181414&type=after&isActualPointWriteExecute=false&isMileageSubscriptionAlready=false&isMileageSubscriptionReject=false&page={}'\n",
    "\n",
    "import requests\n",
    "from bs4 import BeautifulSoup\n"
   ]
  },
  {
   "cell_type": "code",
   "execution_count": 7,
   "metadata": {},
   "outputs": [
    {
     "data": {
      "text/plain": [
       "<Response [200]>"
      ]
     },
     "execution_count": 7,
     "metadata": {},
     "output_type": "execute_result"
    }
   ],
   "source": [
    "page=1 \n",
    "response = requests.get(url.format(1))\n",
    "response"
   ]
  },
  {
   "cell_type": "code",
   "execution_count": 12,
   "metadata": {},
   "outputs": [
    {
     "data": {
      "text/plain": [
       "[<li class=\"on\"><a href=\"#\" onclick=\"parent.clickcr(this, 'ara.bysym', '', '', event); dislplayOrder('sympathyScore');\">공감순</a></li>,\n",
       " <li><a href=\"#\" onclick=\"parent.clickcr(this, 'ara.byrct', '', '', event); dislplayOrder('newest');\">최신순</a></li>,\n",
       " <li><a href=\"#\" onclick=\"parent.clickcr(this, 'ara.high', '', '', event); dislplayOrder('highest');\">평점 높은 순</a></li>,\n",
       " <li><a href=\"#\" onclick=\"parent.clickcr(this, 'ara.low', '', '', event); dislplayOrder('lowest');\">평점 낮은 순</a></li>,\n",
       " <li>\n",
       " <input class=\"blind\" id=\"spoilerYnCheckBox\" name=\"spilerViewer\" onclick=\"parent.clickcr(this,'','','',event); return false;\" title=\"스포일러 보기\" type=\"checkbox\"/>\n",
       " <label class=\"label_viewer\" for=\"spoilerYnCheckBox\" id=\"spoilerYnLable\">스포일러 보기</label>\n",
       " </li>,\n",
       " <li>\n",
       " <input class=\"blind\" id=\"actualYnCheckBox\" name=\"viewer\" onclick=\"parent.clickcr(this,'ura.mgs','','',event); return false;\" title=\"관람객 평점만 보기\" type=\"checkbox\"/>\n",
       " <label class=\"label_viewer\" for=\"actualYnCheckBox\" id=\"actualYnLable\">관람객 평점만 보기</label>\n",
       " <a class=\"help _actualPointHelp\" href=\"#\" id=\"actualPointHelpButton\" title=\"도움말\">관람객 평점만 보기 도움말</a>\n",
       " <div class=\"ly_help _actualPointHelp\" id=\"actualPointHelp\" style=\"display:none\">\n",
       " <h5>관람객평점만 보기 안내 레이어</h5>\n",
       " <div class=\"ly_cont _actualPointHelp\">\n",
       " <p>네이버 영화에서 예매하신 고객님들이<br/> 영화 관람 후 등록해주신 평점입니다.</p>\n",
       " </div>\n",
       " <button class=\"btn_close _actualPointHelp\" id=\"actualPointHelpCloseButton\" title=\"닫기\" type=\"button\"><span class=\"blind\">관람객 평점만 보기 안내 레이어 닫기</span></button>\n",
       " <span class=\"arr _actualPointHelp\"></span>\n",
       " </div>\n",
       " </li>,\n",
       " <li>\n",
       " <div class=\"star_score\">\n",
       " <span class=\"st_off\"><span class=\"st_on\" style=\"width:80.0%\"></span></span><em>8</em>\n",
       " </div>\n",
       " <div class=\"score_reple\">\n",
       " <p>\n",
       " <span class=\"ico_viewer\">관람객</span>\n",
       " <!-- 스포일러 컨텐츠로 처리되는지 여부 -->\n",
       " <span id=\"_filtered_ment_0\">\n",
       " \t\t\t\t\t\t\t\t\t\t\t\t\t\t\n",
       " \t\t\t\t\t\t\t\t\t\t\t\t\t\t\t\n",
       " \t\t\t\t\t\t\t\t\t\t\t\t\t\t\t\n",
       " \t\t\t\t\t\t\t\t\t\t\t\t\t\t\t\t빨간옷중.. 유일하게 언어를 쓸수 있는 이유.. \n",
       " \t\t\t\t\t\t\t\t\t\t\t\t\t\t\t\n",
       " \t\t\t\t\t\t\t\t\t\t\t\t\t\t\n",
       " \t\t\t\t\t\t\t\t\t\t\t\t\t\t\n",
       " \t\t\t\t\t\t\t\t\t\t\t\t\t</span>\n",
       " </p>\n",
       " <dl>\n",
       " <dt>\n",
       " <em>\n",
       " <a href=\"#\" onclick=\"javascript:showPointListByNid(15456432, 'after');parent.clickcr(this, 'ara.uid', '', '', event); return false;\" target=\"_top\">\n",
       " <span>전소현(wjst****)</span>\n",
       " </a>\n",
       " </em>\n",
       " <em>2019.03.27 22:44</em>\n",
       " </dt>\n",
       " <dd>\n",
       " <a class=\"go_report2\" href=\"#\" onclick=\"parent.clickcr(this, 'ara.report', '', '', event); common.report('false','wjst****', 'SrZ/CmGSS7jTidP7FTDMmiI9YK1dP30NJ4b77gEy/ws=', '빨간옷중.. 유일하게 언어를 쓸수 있는 이유.. ', '15456432', 'point_after', false);return false;\"><em>신고</em></a>\n",
       " </dd>\n",
       " </dl>\n",
       " </div>\n",
       " <div class=\"btn_area\">\n",
       " <a class=\"_sympathyButton\" href=\"#\" onclick=\"parent.clickcr(this, 'ara.sym', '', '', event);\">\n",
       " <span class=\"ico_up\"></span>\n",
       " <span class=\"blind\">공감</span>\n",
       " <strong class=\"sympathy_15456432\">3681</strong>\n",
       " </a>\n",
       " <a class=\"_notSympathyButton\" href=\"#\" onclick=\"parent.clickcr(this, 'ara.opp', '', '', event);\">\n",
       " <span class=\"ico_down\"></span>\n",
       " <span class=\"blind\">비공감</span>\n",
       " <strong class=\"notSympathy_15456432\">412</strong>\n",
       " </a>\n",
       " </div>\n",
       " </li>,\n",
       " <li>\n",
       " <div class=\"star_score\">\n",
       " <span class=\"st_off\"><span class=\"st_on\" style=\"width:100.0%\"></span></span><em>10</em>\n",
       " </div>\n",
       " <div class=\"score_reple\">\n",
       " <p>\n",
       " <!-- 스포일러 컨텐츠로 처리되는지 여부 -->\n",
       " <span id=\"_filtered_ment_1\">\n",
       " \t\t\t\t\t\t\t\t\t\t\t\t\t\t\n",
       " \t\t\t\t\t\t\t\t\t\t\t\t\t\t\t\n",
       " \t\t\t\t\t\t\t\t\t\t\t\t\t\t\t\n",
       " \t\t\t\t\t\t\t\t\t\t\t\t\t\t\t\t공포영화인줄 알았는데 미친영화였다... \n",
       " \t\t\t\t\t\t\t\t\t\t\t\t\t\t\t\n",
       " \t\t\t\t\t\t\t\t\t\t\t\t\t\t\n",
       " \t\t\t\t\t\t\t\t\t\t\t\t\t\t\n",
       " \t\t\t\t\t\t\t\t\t\t\t\t\t</span>\n",
       " </p>\n",
       " <dl>\n",
       " <dt>\n",
       " <em>\n",
       " <a href=\"#\" onclick=\"javascript:showPointListByNid(15452652, 'after');parent.clickcr(this, 'ara.uid', '', '', event); return false;\" target=\"_top\">\n",
       " <span>asas****</span>\n",
       " </a>\n",
       " </em>\n",
       " <em>2019.03.27 10:03</em>\n",
       " </dt>\n",
       " <dd>\n",
       " <a class=\"go_report2\" href=\"#\" onclick=\"parent.clickcr(this, 'ara.report', '', '', event); common.report('false','asas****', 'EpsrmJGAt/pC4106uD6e86KTLxKNd3HzXSThV2JAXFc=', '공포영화인줄 알았는데 미친영화였다... ', '15452652', 'point_after', false);return false;\"><em>신고</em></a>\n",
       " </dd>\n",
       " </dl>\n",
       " </div>\n",
       " <div class=\"btn_area\">\n",
       " <a class=\"_sympathyButton\" href=\"#\" onclick=\"parent.clickcr(this, 'ara.sym', '', '', event);\">\n",
       " <span class=\"ico_up\"></span>\n",
       " <span class=\"blind\">공감</span>\n",
       " <strong class=\"sympathy_15452652\">2273</strong>\n",
       " </a>\n",
       " <a class=\"_notSympathyButton\" href=\"#\" onclick=\"parent.clickcr(this, 'ara.opp', '', '', event);\">\n",
       " <span class=\"ico_down\"></span>\n",
       " <span class=\"blind\">비공감</span>\n",
       " <strong class=\"notSympathy_15452652\">420</strong>\n",
       " </a>\n",
       " </div>\n",
       " </li>,\n",
       " <li>\n",
       " <div class=\"star_score\">\n",
       " <span class=\"st_off\"><span class=\"st_on\" style=\"width:80.0%\"></span></span><em>8</em>\n",
       " </div>\n",
       " <div class=\"score_reple\">\n",
       " <p>\n",
       " <!-- 스포일러 컨텐츠로 처리되는지 여부 -->\n",
       " <span id=\"_filtered_ment_2\">\n",
       " \t\t\t\t\t\t\t\t\t\t\t\t\t\t\n",
       " \t\t\t\t\t\t\t\t\t\t\t\t\t\t\t\n",
       " \t\t\t\t\t\t\t\t\t\t\t\t\t\t\t\n",
       " \t\t\t\t\t\t\t\t\t\t\t\t\t\t\t\t영화 초반=컨저링급 후반=짱구의 좌충우돌 아메리카 대모험 \n",
       " \t\t\t\t\t\t\t\t\t\t\t\t\t\t\t\n",
       " \t\t\t\t\t\t\t\t\t\t\t\t\t\t\n",
       " \t\t\t\t\t\t\t\t\t\t\t\t\t\t\n",
       " \t\t\t\t\t\t\t\t\t\t\t\t\t</span>\n",
       " </p>\n",
       " <dl>\n",
       " <dt>\n",
       " <em>\n",
       " <a href=\"#\" onclick=\"javascript:showPointListByNid(15453028, 'after');parent.clickcr(this, 'ara.uid', '', '', event); return false;\" target=\"_top\">\n",
       " <span>gkdd****</span>\n",
       " </a>\n",
       " </em>\n",
       " <em>2019.03.27 12:32</em>\n",
       " </dt>\n",
       " <dd>\n",
       " <a class=\"go_report2\" href=\"#\" onclick=\"parent.clickcr(this, 'ara.report', '', '', event); common.report('false','gkdd****', '0Jc7thRt2csfnyGns+Pr+pC/P+PYenM+R9ZDmyJkeDU=', '영화 초반=컨저링급 후반=짱구의 좌충우돌 아메리카 대모험 ', '15453028', 'point_after', false);return false;\"><em>신고</em></a>\n",
       " </dd>\n",
       " </dl>\n",
       " </div>\n",
       " <div class=\"btn_area\">\n",
       " <a class=\"_sympathyButton\" href=\"#\" onclick=\"parent.clickcr(this, 'ara.sym', '', '', event);\">\n",
       " <span class=\"ico_up\"></span>\n",
       " <span class=\"blind\">공감</span>\n",
       " <strong class=\"sympathy_15453028\">1966</strong>\n",
       " </a>\n",
       " <a class=\"_notSympathyButton\" href=\"#\" onclick=\"parent.clickcr(this, 'ara.opp', '', '', event);\">\n",
       " <span class=\"ico_down\"></span>\n",
       " <span class=\"blind\">비공감</span>\n",
       " <strong class=\"notSympathy_15453028\">332</strong>\n",
       " </a>\n",
       " </div>\n",
       " </li>,\n",
       " <li>\n",
       " <div class=\"star_score\">\n",
       " <span class=\"st_off\"><span class=\"st_on\" style=\"width:60.0%\"></span></span><em>6</em>\n",
       " </div>\n",
       " <div class=\"score_reple\">\n",
       " <p>\n",
       " <!-- 스포일러 컨텐츠로 처리되는지 여부 -->\n",
       " <span id=\"_filtered_ment_3\">\n",
       " \t\t\t\t\t\t\t\t\t\t\t\t\t\t\n",
       " \t\t\t\t\t\t\t\t\t\t\t\t\t\t\t\n",
       " \t\t\t\t\t\t\t\t\t\t\t\t\t\t\t\n",
       " \t\t\t\t\t\t\t\t\t\t\t\t\t\t\t\t호불호 많이 갈릴듯 소재는 참신했으나 풀어나가는 능력이 다소 미흡했다. 겟아웃 정도의 참신함과 몰입력은 아닌거같다. \n",
       " \t\t\t\t\t\t\t\t\t\t\t\t\t\t\t\n",
       " \t\t\t\t\t\t\t\t\t\t\t\t\t\t\n",
       " \t\t\t\t\t\t\t\t\t\t\t\t\t\t\n",
       " \t\t\t\t\t\t\t\t\t\t\t\t\t</span>\n",
       " </p>\n",
       " <dl>\n",
       " <dt>\n",
       " <em>\n",
       " <a href=\"#\" onclick=\"javascript:showPointListByNid(15452822, 'after');parent.clickcr(this, 'ara.uid', '', '', event); return false;\" target=\"_top\">\n",
       " <span>꼬꼬마(plan****)</span>\n",
       " </a>\n",
       " </em>\n",
       " <em>2019.03.27 11:29</em>\n",
       " </dt>\n",
       " <dd>\n",
       " <a class=\"go_report2\" href=\"#\" onclick=\"parent.clickcr(this, 'ara.report', '', '', event); common.report('false','plan****', 'ebtQxaktVJlxBf75EPYG3GNgFgLsxHMhKYAcwofsRBg=', '호불호 많이 갈릴듯 소재는 참신했으나 풀어나가는 능력이 다소 미흡했다. 겟아웃 정도의 참신함과 몰입력은 아닌거같다. ', '15452822', 'point_after', false);return false;\"><em>신고</em></a>\n",
       " </dd>\n",
       " </dl>\n",
       " </div>\n",
       " <div class=\"btn_area\">\n",
       " <a class=\"_sympathyButton\" href=\"#\" onclick=\"parent.clickcr(this, 'ara.sym', '', '', event);\">\n",
       " <span class=\"ico_up\"></span>\n",
       " <span class=\"blind\">공감</span>\n",
       " <strong class=\"sympathy_15452822\">1909</strong>\n",
       " </a>\n",
       " <a class=\"_notSympathyButton\" href=\"#\" onclick=\"parent.clickcr(this, 'ara.opp', '', '', event);\">\n",
       " <span class=\"ico_down\"></span>\n",
       " <span class=\"blind\">비공감</span>\n",
       " <strong class=\"notSympathy_15452822\">606</strong>\n",
       " </a>\n",
       " </div>\n",
       " </li>,\n",
       " <li>\n",
       " <div class=\"star_score\">\n",
       " <span class=\"st_off\"><span class=\"st_on\" style=\"width:80.0%\"></span></span><em>8</em>\n",
       " </div>\n",
       " <div class=\"score_reple\">\n",
       " <p>\n",
       " <!-- 스포일러 컨텐츠로 처리되는지 여부 -->\n",
       " <span id=\"_filtered_ment_4\">\n",
       " \t\t\t\t\t\t\t\t\t\t\t\t\t\t\n",
       " \t\t\t\t\t\t\t\t\t\t\t\t\t\t\t\n",
       " \t\t\t\t\t\t\t\t\t\t\t\t\t\t\t\n",
       " \t\t\t\t\t\t\t\t\t\t\t\t\t\t\t\t어떤 영화가 낫다 공감 안낫다 비공감 이런것좀 하지마 맨날 이런게 베댓이야 어스자체만의 평점을 매기라고 \n",
       " \t\t\t\t\t\t\t\t\t\t\t\t\t\t\t\n",
       " \t\t\t\t\t\t\t\t\t\t\t\t\t\t\n",
       " \t\t\t\t\t\t\t\t\t\t\t\t\t\t\n",
       " \t\t\t\t\t\t\t\t\t\t\t\t\t</span>\n",
       " </p>\n",
       " <dl>\n",
       " <dt>\n",
       " <em>\n",
       " <a href=\"#\" onclick=\"javascript:showPointListByNid(15452589, 'after');parent.clickcr(this, 'ara.uid', '', '', event); return false;\" target=\"_top\">\n",
       " <span>바이올린(viol****)</span>\n",
       " </a>\n",
       " </em>\n",
       " <em>2019.03.27 09:36</em>\n",
       " </dt>\n",
       " <dd>\n",
       " <a class=\"go_report2\" href=\"#\" onclick=\"parent.clickcr(this, 'ara.report', '', '', event); common.report('false','viol****', '3G/euRFX1i5AHDvmgUOcxhCGMKYzZvqUpTdLCYsUab4=', '어떤 영화가 낫다 공감 안낫다 비공감 이런것좀 하지마 맨날 이런게 베댓이야 어스자체만의 평점을 매기라고 ', '15452589', 'point_after', false);return false;\"><em>신고</em></a>\n",
       " </dd>\n",
       " </dl>\n",
       " </div>\n",
       " <div class=\"btn_area\">\n",
       " <a class=\"_sympathyButton\" href=\"#\" onclick=\"parent.clickcr(this, 'ara.sym', '', '', event);\">\n",
       " <span class=\"ico_up\"></span>\n",
       " <span class=\"blind\">공감</span>\n",
       " <strong class=\"sympathy_15452589\">1311</strong>\n",
       " </a>\n",
       " <a class=\"_notSympathyButton\" href=\"#\" onclick=\"parent.clickcr(this, 'ara.opp', '', '', event);\">\n",
       " <span class=\"ico_down\"></span>\n",
       " <span class=\"blind\">비공감</span>\n",
       " <strong class=\"notSympathy_15452589\">333</strong>\n",
       " </a>\n",
       " </div>\n",
       " </li>,\n",
       " <li>\n",
       " <div class=\"star_score\">\n",
       " <span class=\"st_off\"><span class=\"st_on\" style=\"width:100.0%\"></span></span><em>10</em>\n",
       " </div>\n",
       " <div class=\"score_reple\">\n",
       " <p>\n",
       " <!-- 스포일러 컨텐츠로 처리되는지 여부 -->\n",
       " <span id=\"_filtered_ment_5\">\n",
       " \t\t\t\t\t\t\t\t\t\t\t\t\t\t\n",
       " \t\t\t\t\t\t\t\t\t\t\t\t\t\t\t\n",
       " \t\t\t\t\t\t\t\t\t\t\t\t\t\t\t\n",
       " \t\t\t\t\t\t\t\t\t\t\t\t\t\t\t\t루피타 뇽 연기력 미쳤다... \n",
       " \t\t\t\t\t\t\t\t\t\t\t\t\t\t\t\n",
       " \t\t\t\t\t\t\t\t\t\t\t\t\t\t\n",
       " \t\t\t\t\t\t\t\t\t\t\t\t\t\t\n",
       " \t\t\t\t\t\t\t\t\t\t\t\t\t</span>\n",
       " </p>\n",
       " <dl>\n",
       " <dt>\n",
       " <em>\n",
       " <a href=\"#\" onclick=\"javascript:showPointListByNid(15452763, 'after');parent.clickcr(this, 'ara.uid', '', '', event); return false;\" target=\"_top\">\n",
       " <span>물방울(ho12****)</span>\n",
       " </a>\n",
       " </em>\n",
       " <em>2019.03.27 11:02</em>\n",
       " </dt>\n",
       " <dd>\n",
       " <a class=\"go_report2\" href=\"#\" onclick=\"parent.clickcr(this, 'ara.report', '', '', event); common.report('false','ho12****', '8IvVTBM4MWnRL/QMC4E11Bc+EHan+m1AyR+EcjaIsSQ=', '루피타 뇽 연기력 미쳤다... ', '15452763', 'point_after', false);return false;\"><em>신고</em></a>\n",
       " </dd>\n",
       " </dl>\n",
       " </div>\n",
       " <div class=\"btn_area\">\n",
       " <a class=\"_sympathyButton\" href=\"#\" onclick=\"parent.clickcr(this, 'ara.sym', '', '', event);\">\n",
       " <span class=\"ico_up\"></span>\n",
       " <span class=\"blind\">공감</span>\n",
       " <strong class=\"sympathy_15452763\">1085</strong>\n",
       " </a>\n",
       " <a class=\"_notSympathyButton\" href=\"#\" onclick=\"parent.clickcr(this, 'ara.opp', '', '', event);\">\n",
       " <span class=\"ico_down\"></span>\n",
       " <span class=\"blind\">비공감</span>\n",
       " <strong class=\"notSympathy_15452763\">145</strong>\n",
       " </a>\n",
       " </div>\n",
       " </li>,\n",
       " <li>\n",
       " <div class=\"star_score\">\n",
       " <span class=\"st_off\"><span class=\"st_on\" style=\"width:100.0%\"></span></span><em>10</em>\n",
       " </div>\n",
       " <div class=\"score_reple\">\n",
       " <p>\n",
       " <!-- 스포일러 컨텐츠로 처리되는지 여부 -->\n",
       " <span id=\"_filtered_ment_6\">\n",
       " \t\t\t\t\t\t\t\t\t\t\t\t\t\t\n",
       " \t\t\t\t\t\t\t\t\t\t\t\t\t\t\t\n",
       " \t\t\t\t\t\t\t\t\t\t\t\t\t\t\t\n",
       " \t\t\t\t\t\t\t\t\t\t\t\t\t\t\t\t재밋게 봣는데 궁금한건 손에 손잡고 계속 잇는겨? 저거 하면 뭐 어케 되는건데 \n",
       " \t\t\t\t\t\t\t\t\t\t\t\t\t\t\t\n",
       " \t\t\t\t\t\t\t\t\t\t\t\t\t\t\n",
       " \t\t\t\t\t\t\t\t\t\t\t\t\t\t\n",
       " \t\t\t\t\t\t\t\t\t\t\t\t\t</span>\n",
       " </p>\n",
       " <dl>\n",
       " <dt>\n",
       " <em>\n",
       " <a href=\"#\" onclick=\"javascript:showPointListByNid(15452937, 'after');parent.clickcr(this, 'ara.uid', '', '', event); return false;\" target=\"_top\">\n",
       " <span>them****</span>\n",
       " </a>\n",
       " </em>\n",
       " <em>2019.03.27 12:09</em>\n",
       " </dt>\n",
       " <dd>\n",
       " <a class=\"go_report2\" href=\"#\" onclick=\"parent.clickcr(this, 'ara.report', '', '', event); common.report('false','them****', 'PkRLBvINL5EAIgIiv6nlsqgObWu93jAcHPDWmgQPejk=', '재밋게 봣는데 궁금한건 손에 손잡고 계속 잇는겨? 저거 하면 뭐 어케 되는건데 ', '15452937', 'point_after', false);return false;\"><em>신고</em></a>\n",
       " </dd>\n",
       " </dl>\n",
       " </div>\n",
       " <div class=\"btn_area\">\n",
       " <a class=\"_sympathyButton\" href=\"#\" onclick=\"parent.clickcr(this, 'ara.sym', '', '', event);\">\n",
       " <span class=\"ico_up\"></span>\n",
       " <span class=\"blind\">공감</span>\n",
       " <strong class=\"sympathy_15452937\">1087</strong>\n",
       " </a>\n",
       " <a class=\"_notSympathyButton\" href=\"#\" onclick=\"parent.clickcr(this, 'ara.opp', '', '', event);\">\n",
       " <span class=\"ico_down\"></span>\n",
       " <span class=\"blind\">비공감</span>\n",
       " <strong class=\"notSympathy_15452937\">167</strong>\n",
       " </a>\n",
       " </div>\n",
       " </li>,\n",
       " <li>\n",
       " <div class=\"star_score\">\n",
       " <span class=\"st_off\"><span class=\"st_on\" style=\"width:50.0%\"></span></span><em>5</em>\n",
       " </div>\n",
       " <div class=\"score_reple\">\n",
       " <p>\n",
       " <span class=\"ico_viewer\">관람객</span>\n",
       " <!-- 스포일러 컨텐츠로 처리되는지 여부 -->\n",
       " <span id=\"_filtered_ment_7\">\n",
       " \t\t\t\t\t\t\t\t\t\t\t\t\t\t\n",
       " \t\t\t\t\t\t\t\t\t\t\t\t\t\t\t\n",
       " \t\t\t\t\t\t\t\t\t\t\t\t\t\t\t\n",
       " \t\t\t\t\t\t\t\t\t\t\t\t\t\t\t\t겟아웃 보다 확실히 별로입니다. \n",
       " \t\t\t\t\t\t\t\t\t\t\t\t\t\t\t\n",
       " \t\t\t\t\t\t\t\t\t\t\t\t\t\t\n",
       " \t\t\t\t\t\t\t\t\t\t\t\t\t\t\n",
       " \t\t\t\t\t\t\t\t\t\t\t\t\t</span>\n",
       " </p>\n",
       " <dl>\n",
       " <dt>\n",
       " <em>\n",
       " <a href=\"#\" onclick=\"javascript:showPointListByNid(15453055, 'after');parent.clickcr(this, 'ara.uid', '', '', event); return false;\" target=\"_top\">\n",
       " <span>이수현(masu****)</span>\n",
       " </a>\n",
       " </em>\n",
       " <em>2019.03.27 12:40</em>\n",
       " </dt>\n",
       " <dd>\n",
       " <a class=\"go_report2\" href=\"#\" onclick=\"parent.clickcr(this, 'ara.report', '', '', event); common.report('false','masu****', 'qyKA2vckUsblyE51xrq5wSrDSXouTBje9EWWXLCU06M=', '겟아웃 보다 확실히 별로입니다. ', '15453055', 'point_after', false);return false;\"><em>신고</em></a>\n",
       " </dd>\n",
       " </dl>\n",
       " </div>\n",
       " <div class=\"btn_area\">\n",
       " <a class=\"_sympathyButton\" href=\"#\" onclick=\"parent.clickcr(this, 'ara.sym', '', '', event);\">\n",
       " <span class=\"ico_up\"></span>\n",
       " <span class=\"blind\">공감</span>\n",
       " <strong class=\"sympathy_15453055\">1776</strong>\n",
       " </a>\n",
       " <a class=\"_notSympathyButton\" href=\"#\" onclick=\"parent.clickcr(this, 'ara.opp', '', '', event);\">\n",
       " <span class=\"ico_down\"></span>\n",
       " <span class=\"blind\">비공감</span>\n",
       " <strong class=\"notSympathy_15453055\">995</strong>\n",
       " </a>\n",
       " </div>\n",
       " </li>,\n",
       " <li>\n",
       " <div class=\"star_score\">\n",
       " <span class=\"st_off\"><span class=\"st_on\" style=\"width:20.0%\"></span></span><em>2</em>\n",
       " </div>\n",
       " <div class=\"score_reple\">\n",
       " <p>\n",
       " <span class=\"ico_viewer\">관람객</span>\n",
       " <!-- 스포일러 컨텐츠로 처리되는지 여부 -->\n",
       " <span id=\"_filtered_ment_8\">\n",
       " \t\t\t\t\t\t\t\t\t\t\t\t\t\t\n",
       " \t\t\t\t\t\t\t\t\t\t\t\t\t\t\t\n",
       " \t\t\t\t\t\t\t\t\t\t\t\t\t\t\t\n",
       " \t\t\t\t\t\t\t\t\t\t\t\t\t\t\t\t재밌냐 이게 ? 솔직히 이게 재밌냐고 \n",
       " \t\t\t\t\t\t\t\t\t\t\t\t\t\t\t\n",
       " \t\t\t\t\t\t\t\t\t\t\t\t\t\t\n",
       " \t\t\t\t\t\t\t\t\t\t\t\t\t\t\n",
       " \t\t\t\t\t\t\t\t\t\t\t\t\t</span>\n",
       " </p>\n",
       " <dl>\n",
       " <dt>\n",
       " <em>\n",
       " <a href=\"#\" onclick=\"javascript:showPointListByNid(15453233, 'after');parent.clickcr(this, 'ara.uid', '', '', event); return false;\" target=\"_top\">\n",
       " <span>11_87(swba****)</span>\n",
       " </a>\n",
       " </em>\n",
       " <em>2019.03.27 13:38</em>\n",
       " </dt>\n",
       " <dd>\n",
       " <a class=\"go_report2\" href=\"#\" onclick=\"parent.clickcr(this, 'ara.report', '', '', event); common.report('false','swba****', 'k2vwclem3U8z2X8alBI5tQ7No0n7XeSiJ4ifQ8TqhYs=', '재밌냐 이게 ? 솔직히 이게 재밌냐고 ', '15453233', 'point_after', false);return false;\"><em>신고</em></a>\n",
       " </dd>\n",
       " </dl>\n",
       " </div>\n",
       " <div class=\"btn_area\">\n",
       " <a class=\"_sympathyButton\" href=\"#\" onclick=\"parent.clickcr(this, 'ara.sym', '', '', event);\">\n",
       " <span class=\"ico_up\"></span>\n",
       " <span class=\"blind\">공감</span>\n",
       " <strong class=\"sympathy_15453233\">1863</strong>\n",
       " </a>\n",
       " <a class=\"_notSympathyButton\" href=\"#\" onclick=\"parent.clickcr(this, 'ara.opp', '', '', event);\">\n",
       " <span class=\"ico_down\"></span>\n",
       " <span class=\"blind\">비공감</span>\n",
       " <strong class=\"notSympathy_15453233\">1127</strong>\n",
       " </a>\n",
       " </div>\n",
       " </li>,\n",
       " <li class=\"last\">\n",
       " <div class=\"star_score\">\n",
       " <span class=\"st_off\"><span class=\"st_on\" style=\"width:30.0%\"></span></span><em>3</em>\n",
       " </div>\n",
       " <div class=\"score_reple\">\n",
       " <p>\n",
       " <!-- 스포일러 컨텐츠로 처리되는지 여부 -->\n",
       " <span id=\"_filtered_ment_9\">\n",
       " \t\t\t\t\t\t\t\t\t\t\t\t\t\t\n",
       " \t\t\t\t\t\t\t\t\t\t\t\t\t\t\t\n",
       " \t\t\t\t\t\t\t\t\t\t\t\t\t\t\t\n",
       " \t\t\t\t\t\t\t\t\t\t\t\t\t\t\t\t겟아웃보다 훨씬 별로인데 언플하고 홍보를 너무 해서 기대치를 지나치게 높임;;; \n",
       " \t\t\t\t\t\t\t\t\t\t\t\t\t\t\t\n",
       " \t\t\t\t\t\t\t\t\t\t\t\t\t\t\n",
       " \t\t\t\t\t\t\t\t\t\t\t\t\t\t\n",
       " \t\t\t\t\t\t\t\t\t\t\t\t\t</span>\n",
       " </p>\n",
       " <dl>\n",
       " <dt>\n",
       " <em>\n",
       " <a href=\"#\" onclick=\"javascript:showPointListByNid(15453312, 'after');parent.clickcr(this, 'ara.uid', '', '', event); return false;\" target=\"_top\">\n",
       " <span>피눈물(nukd****)</span>\n",
       " </a>\n",
       " </em>\n",
       " <em>2019.03.27 13:57</em>\n",
       " </dt>\n",
       " <dd>\n",
       " <a class=\"go_report2\" href=\"#\" onclick=\"parent.clickcr(this, 'ara.report', '', '', event); common.report('false','nukd****', 'L2QWlxcR73XLLolXlWy/5VTqfCr3n1p+JYeu5cGHaCs=', '겟아웃보다 훨씬 별로인데 언플하고 홍보를 너무 해서 기대치를 지나치게 높임;;; ', '15453312', 'point_after', false);return false;\"><em>신고</em></a>\n",
       " </dd>\n",
       " </dl>\n",
       " </div>\n",
       " <div class=\"btn_area\">\n",
       " <a class=\"_sympathyButton\" href=\"#\" onclick=\"parent.clickcr(this, 'ara.sym', '', '', event);\">\n",
       " <span class=\"ico_up\"></span>\n",
       " <span class=\"blind\">공감</span>\n",
       " <strong class=\"sympathy_15453312\">1383</strong>\n",
       " </a>\n",
       " <a class=\"_notSympathyButton\" href=\"#\" onclick=\"parent.clickcr(this, 'ara.opp', '', '', event);\">\n",
       " <span class=\"ico_down\"></span>\n",
       " <span class=\"blind\">비공감</span>\n",
       " <strong class=\"notSympathy_15453312\">755</strong>\n",
       " </a>\n",
       " </div>\n",
       " </li>]"
      ]
     },
     "execution_count": 12,
     "metadata": {},
     "output_type": "execute_result"
    }
   ],
   "source": [
    "soup = BeautifulSoup(response.text, 'html.parser') #html을 하나씩 하나씩 보는 것\n",
    "soup.find_all('li')"
   ]
  },
  {
   "cell_type": "code",
   "execution_count": 27,
   "metadata": {},
   "outputs": [
    {
     "name": "stdout",
     "output_type": "stream",
     "text": [
      "점수: 8\n",
      "댓글: 관람객빨간옷중.. 유일하게 언어를 쓸수 있는 이유..\n",
      "점수: 10\n",
      "댓글: 공포영화인줄 알았는데 미친영화였다...\n",
      "점수: 8\n",
      "댓글: 영화 초반=컨저링급 후반=짱구의 좌충우돌 아메리카 대모험\n",
      "점수: 6\n",
      "댓글: 호불호 많이 갈릴듯 소재는 참신했으나 풀어나가는 능력이 다소 미흡했다. 겟아웃 정도의 참신함과 몰입력은 아닌거같다.\n",
      "점수: 8\n",
      "댓글: 어떤 영화가 낫다 공감 안낫다 비공감 이런것좀 하지마 맨날 이런게 베댓이야 어스자체만의 평점을 매기라고\n",
      "점수: 10\n",
      "댓글: 루피타 뇽 연기력 미쳤다...\n",
      "점수: 10\n",
      "댓글: 재밋게 봣는데 궁금한건 손에 손잡고 계속 잇는겨? 저거 하면 뭐 어케 되는건데\n",
      "점수: 5\n",
      "댓글: 관람객겟아웃 보다 확실히 별로입니다.\n",
      "점수: 2\n",
      "댓글: 관람객재밌냐 이게 ? 솔직히 이게 재밌냐고\n",
      "점수: 3\n",
      "댓글: 겟아웃보다 훨씬 별로인데 언플하고 홍보를 너무 해서 기대치를 지나치게 높임;;;\n"
     ]
    }
   ],
   "source": [
    "for li in soup.find('div', {'class': 'score_result'}).find_all('li'):\n",
    "    print(\"점수:\", li.em.text)\n",
    "    print(\"댓글:\", li.p.text.strip().replace(\"\\t\",\"\").replace(\"\\n\",\"\").replace(\"\\r\",\"\"))\n",
    "    "
   ]
  },
  {
   "cell_type": "code",
   "execution_count": 40,
   "metadata": {},
   "outputs": [],
   "source": [
    "def get_reple(page=1): \n",
    "    response = requests.get(url.format(page))\n",
    "    soup = BeautifulSoup(response.text, 'html.parser') \n",
    "    ## 댓글 수집 자동화\n",
    "    s, t = [], []\n",
    "    \n",
    "    \n",
    "    for li in soup.find('div', {'class': 'score_result'}).find_all('li'):\n",
    "        #print(\"점수:\", li.em.text)\n",
    "        #print(\"댓글:\", li.p.text.strip().replace(\"\\t\",\"\").replace(\"\\n\",\"\").replace(\"\\r\",\"\"))\n",
    "        if int(li.em.text) >= 8:\n",
    "            s.append(1)\n",
    "            t.append(li.p.text.strip().replace(\"\\t\",\"\").replace(\"\\n\",\"\").replace(\"\\r\",\"\"))\n",
    "        elif int(li.em.text) <= 5:\n",
    "            s.append(0)\n",
    "            t.append(li.p.text.strip().replace(\"\\t\",\"\").replace(\"\\n\",\"\").replace(\"\\r\",\"\"))\n",
    "    return s, t"
   ]
  },
  {
   "cell_type": "code",
   "execution_count": 41,
   "metadata": {},
   "outputs": [
    {
     "data": {
      "text/plain": [
       "([1, 1, 1, 1, 1, 1, 0, 0, 0],\n",
       " ['관람객빨간옷중.. 유일하게 언어를 쓸수 있는 이유..',\n",
       "  '공포영화인줄 알았는데 미친영화였다...',\n",
       "  '영화 초반=컨저링급 후반=짱구의 좌충우돌 아메리카 대모험',\n",
       "  '어떤 영화가 낫다 공감 안낫다 비공감 이런것좀 하지마 맨날 이런게 베댓이야 어스자체만의 평점을 매기라고',\n",
       "  '루피타 뇽 연기력 미쳤다...',\n",
       "  '재밋게 봣는데 궁금한건 손에 손잡고 계속 잇는겨? 저거 하면 뭐 어케 되는건데',\n",
       "  '관람객겟아웃 보다 확실히 별로입니다.',\n",
       "  '관람객재밌냐 이게 ? 솔직히 이게 재밌냐고',\n",
       "  '겟아웃보다 훨씬 별로인데 언플하고 홍보를 너무 해서 기대치를 지나치게 높임;;;'])"
      ]
     },
     "execution_count": 41,
     "metadata": {},
     "output_type": "execute_result"
    }
   ],
   "source": [
    "get_reple(1)"
   ]
  },
  {
   "cell_type": "code",
   "execution_count": 42,
   "metadata": {},
   "outputs": [
    {
     "name": "stdout",
     "output_type": "stream",
     "text": [
      "999\r"
     ]
    }
   ],
   "source": [
    "# 네이버 도스 공격 한다고 생각하고 막을수 있음\n",
    "import time\n",
    "score, text = [], []\n",
    "\n",
    "for i in range(1,1000):\n",
    "    time.sleep(1)\n",
    "    print(i, end = \"\\r\") \n",
    "    s, t = get_reple(i)\n",
    "    score += s\n",
    "    text += t"
   ]
  },
  {
   "cell_type": "code",
   "execution_count": 43,
   "metadata": {},
   "outputs": [
    {
     "data": {
      "text/plain": [
       "8464"
      ]
     },
     "execution_count": 43,
     "metadata": {},
     "output_type": "execute_result"
    }
   ],
   "source": [
    "len(score), len(text)"
   ]
  },
  {
   "cell_type": "code",
   "execution_count": 45,
   "metadata": {},
   "outputs": [],
   "source": [
    "import pandas as pd\n",
    "\n",
    "df = pd.DataFrame([score, text]).T\n",
    "df.columns = ['score', 'text']"
   ]
  },
  {
   "cell_type": "code",
   "execution_count": 46,
   "metadata": {},
   "outputs": [],
   "source": [
    "df.to_csv('text(us).csv')"
   ]
  },
  {
   "cell_type": "code",
   "execution_count": 47,
   "metadata": {},
   "outputs": [],
   "source": [
    "from sklearn.model_selection import train_test_split\n",
    "\n",
    "train_x, test_x, train_y, test_y = train_test_split(text, score, test_size = 0.2, random_state=0)"
   ]
  },
  {
   "cell_type": "code",
   "execution_count": 48,
   "metadata": {},
   "outputs": [
    {
     "data": {
      "text/plain": [
       "(6771, 6771)"
      ]
     },
     "execution_count": 48,
     "metadata": {},
     "output_type": "execute_result"
    }
   ],
   "source": [
    "len(train_x), len(train_y)"
   ]
  },
  {
   "cell_type": "code",
   "execution_count": 49,
   "metadata": {},
   "outputs": [
    {
     "data": {
      "text/plain": [
       "(1693, 1693)"
      ]
     },
     "execution_count": 49,
     "metadata": {},
     "output_type": "execute_result"
    }
   ],
   "source": [
    "len(test_x),len(test_y)"
   ]
  },
  {
   "cell_type": "code",
   "execution_count": 50,
   "metadata": {},
   "outputs": [
    {
     "name": "stderr",
     "output_type": "stream",
     "text": [
      "C:\\Anaconda3\\lib\\site-packages\\konlpy\\tag\\_okt.py:16: UserWarning: \"Twitter\" has changed to \"Okt\" since KoNLPy v0.4.5.\n",
      "  warn('\"Twitter\" has changed to \"Okt\" since KoNLPy v0.4.5.')\n"
     ]
    },
    {
     "data": {
      "text/plain": [
       "<6771x8882 sparse matrix of type '<class 'numpy.float64'>'\n",
       "\twith 122951 stored elements in Compressed Sparse Row format>"
      ]
     },
     "execution_count": 50,
     "metadata": {},
     "output_type": "execute_result"
    }
   ],
   "source": [
    "from konlpy.tag import Twitter\n",
    "twitter = Twitter()\n",
    "from sklearn.feature_extraction.text import TfidfVectorizer\n",
    "\n",
    "tfv = TfidfVectorizer(tokenizer= twitter.morphs, ngram_range=(1,2), min_df= 3, max_df = 0.9) \n",
    "tfv.fit(train_x)\n",
    "tfv_train_x = tfv.transform(train_x)\n",
    "tfv_train_x\n"
   ]
  },
  {
   "cell_type": "code",
   "execution_count": 51,
   "metadata": {},
   "outputs": [
    {
     "name": "stdout",
     "output_type": "stream",
     "text": [
      "Fitting 4 folds for each of 5 candidates, totalling 20 fits\n"
     ]
    },
    {
     "name": "stderr",
     "output_type": "stream",
     "text": [
      "[Parallel(n_jobs=1)]: Using backend SequentialBackend with 1 concurrent workers.\n",
      "C:\\Anaconda3\\lib\\site-packages\\sklearn\\linear_model\\logistic.py:432: FutureWarning: Default solver will be changed to 'lbfgs' in 0.22. Specify a solver to silence this warning.\n",
      "  FutureWarning)\n",
      "[Parallel(n_jobs=1)]: Done  20 out of  20 | elapsed:    0.6s finished\n"
     ]
    },
    {
     "data": {
      "text/plain": [
       "GridSearchCV(cv=4, error_score='raise-deprecating',\n",
       "             estimator=LogisticRegression(C=1.0, class_weight=None, dual=False,\n",
       "                                          fit_intercept=True,\n",
       "                                          intercept_scaling=1, l1_ratio=None,\n",
       "                                          max_iter=100, multi_class='warn',\n",
       "                                          n_jobs=None, penalty='l2',\n",
       "                                          random_state=0, solver='warn',\n",
       "                                          tol=0.0001, verbose=0,\n",
       "                                          warm_start=False),\n",
       "             iid='warn', n_jobs=None, param_grid={'C': [1, 3, 5, 7, 9]},\n",
       "             pre_dispatch='2*n_jobs', refit=True, return_train_score=False,\n",
       "             scoring='accuracy', verbose=1)"
      ]
     },
     "execution_count": 51,
     "metadata": {},
     "output_type": "execute_result"
    }
   ],
   "source": [
    "from sklearn.linear_model import LogisticRegression\n",
    "from sklearn.model_selection import GridSearchCV\n",
    "\n",
    "clf = LogisticRegression(random_state = 0)\n",
    "params = {'C' : [1,3,5,7,9]}\n",
    "grid_cv = GridSearchCV(clf, param_grid = params, cv=4, scoring = 'accuracy', verbose=1)\n",
    "grid_cv.fit(tfv_train_x, train_y)"
   ]
  },
  {
   "cell_type": "code",
   "execution_count": 52,
   "metadata": {},
   "outputs": [
    {
     "data": {
      "text/plain": [
       "{'C': 5}"
      ]
     },
     "execution_count": 52,
     "metadata": {},
     "output_type": "execute_result"
    }
   ],
   "source": [
    "grid_cv.best_params_"
   ]
  },
  {
   "cell_type": "code",
   "execution_count": 53,
   "metadata": {},
   "outputs": [
    {
     "data": {
      "text/plain": [
       "0.8604342046964998"
      ]
     },
     "execution_count": 53,
     "metadata": {},
     "output_type": "execute_result"
    }
   ],
   "source": [
    "grid_cv.best_score_"
   ]
  },
  {
   "cell_type": "code",
   "execution_count": 54,
   "metadata": {},
   "outputs": [
    {
     "data": {
      "text/plain": [
       "0.861193148257531"
      ]
     },
     "execution_count": 54,
     "metadata": {},
     "output_type": "execute_result"
    }
   ],
   "source": [
    "tfv_test_x = tfv.transform(test_x)\n",
    "grid_cv.best_estimator_.score(tfv_test_x, test_y)"
   ]
  },
  {
   "cell_type": "code",
   "execution_count": 56,
   "metadata": {},
   "outputs": [
    {
     "data": {
      "text/plain": [
       "array([1, 0, 1, 0, 0, 0])"
      ]
     },
     "execution_count": 56,
     "metadata": {},
     "output_type": "execute_result"
    }
   ],
   "source": [
    "a = ['아 너무 재미있어요', '핵노잼','꿀잼','노잼', '영화가 지루해요', '보지마삼']\n",
    "my_review = tfv.transform(a)\n",
    "grid_cv.best_estimator_.predict(my_review)"
   ]
  },
  {
   "cell_type": "code",
   "execution_count": null,
   "metadata": {},
   "outputs": [],
   "source": []
  }
 ],
 "metadata": {
  "kernelspec": {
   "display_name": "Python 3",
   "language": "python",
   "name": "python3"
  },
  "language_info": {
   "codemirror_mode": {
    "name": "ipython",
    "version": 3
   },
   "file_extension": ".py",
   "mimetype": "text/x-python",
   "name": "python",
   "nbconvert_exporter": "python",
   "pygments_lexer": "ipython3",
   "version": "3.7.3"
  }
 },
 "nbformat": 4,
 "nbformat_minor": 2
}
