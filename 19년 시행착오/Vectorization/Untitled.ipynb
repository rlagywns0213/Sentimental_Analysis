{
 "cells": [
  {
   "cell_type": "code",
   "execution_count": 1,
   "metadata": {},
   "outputs": [],
   "source": [
    "    import requests\n",
    "    from bs4 import BeautifulSoup\n",
    "\n",
    "    base_url = \"https://movie.naver.com/movie/bi/mi/pointWriteFormList.nhn?code=136900&type=after&onlyActualPointYn=N&onlySpoilerPointYn=N&order=highest&page={}\"\n",
    "    base_url2 = \"https://movie.naver.com/movie/bi/mi/pointWriteFormList.nhn?code=136900&type=after&onlyActualPointYn=N&onlySpoilerPointYn=N&order=lowest&page={}\"\n",
    "    reviews = []\n",
    "    for n in range(500):\n",
    "        url = base_url.format(n+1)\n",
    "        resp = requests.get(url)\n",
    "        html = BeautifulSoup(resp.content, 'html.parser')\n",
    "\n",
    "        score_result = html.find('div', {'class': 'score_result'})\n",
    "        score_result2 = html.find('div', {'class': 'star_score'})\n",
    "    \n",
    "    \n",
    "        lis = score_result.findAll('li')\n",
    "    \n",
    "        for li in lis :\n",
    "            review_text = li.find('p').getText()\n",
    "            star = score_result2.getText()\n",
    "            comment = review_text.strip().replace(\"\\t\",\"\").replace(\"\\n\",\"\").replace(\"\\r\",\"\")\n",
    "            star = int(star)\n",
    "            label = 0 if star < 7 else 1\n",
    "            reviews.append([label, comment])\n",
    "    train_data = [[], []]    \n",
    "    for review in reviews:\n",
    "        label = review[0]\n",
    "        comment = review[1]\n",
    "        \n",
    "        train_data[0].append(label)\n",
    "        train_data[1].append(comment)\n",
    "        \n",
    "    reviews = []\n",
    "    for m in range(500):\n",
    "        url2 = base_url2.format(n+1)\n",
    "        resp = requests.get(url2)\n",
    "        html = BeautifulSoup(resp.content, 'html.parser')\n",
    "\n",
    "        score_result = html.find('div', {'class': 'score_result'})\n",
    "        score_result2 = html.find('div', {'class': 'star_score'})\n",
    "    \n",
    "    \n",
    "        lis = score_result.findAll('li')\n",
    "    \n",
    "        for li in lis :\n",
    "            review_text = li.find('p').getText()\n",
    "            star = score_result2.getText()\n",
    "            comment = review_text.strip().replace(\"\\t\",\"\").replace(\"\\n\",\"\").replace(\"\\r\",\"\")\n",
    "            star = int(star)\n",
    "            label = 0 if star < 7 else 1\n",
    "            reviews.append([label, comment])    \n",
    "    for review in reviews:\n",
    "        label = review[0]\n",
    "        comment = review[1]\n",
    "        \n",
    "        train_data[0].append(label)\n",
    "        train_data[1].append(comment)"
   ]
  },
  {
   "cell_type": "code",
   "execution_count": 2,
   "metadata": {},
   "outputs": [
    {
     "name": "stdout",
     "output_type": "stream",
     "text": [
      "1\n",
      "관람객완전 재미져요 웅장함...\n"
     ]
    }
   ],
   "source": [
    "import random\n",
    "combine = list(zip(train_data[0],train_data[1]))\n",
    "\n",
    "random.shuffle(combine)\n",
    "\n",
    "train_data[0], train_data[1] = zip(*combine)\n",
    "print(train_data[0][1])\n",
    "print(train_data[1][1])"
   ]
  },
  {
   "cell_type": "code",
   "execution_count": 3,
   "metadata": {},
   "outputs": [],
   "source": [
    "    import requests\n",
    "    from bs4 import BeautifulSoup\n",
    "\n",
    "    base_url = \"https://movie.naver.com/movie/bi/mi/pointWriteFormList.nhn?code=136900&type=after&isActualPointWriteExecute=false&isMileageSubscriptionAlready=false&isMileageSubscriptionReject=false&page={}\"\n",
    "    reviews = []\n",
    "    for n in range(2400,2490):\n",
    "        url = base_url.format(n+1)\n",
    "        resp = requests.get(url)\n",
    "        html = BeautifulSoup(resp.content, 'html.parser')\n",
    "\n",
    "        score_result = html.find('div', {'class': 'score_result'})\n",
    "        score_result2 = html.find('div', {'class': 'star_score'})\n",
    "    \n",
    "    \n",
    "        lis = score_result.findAll('li')\n",
    "    \n",
    "        for li in lis :\n",
    "            review_text = li.find('p').getText()\n",
    "            star = score_result2.getText()\n",
    "            comment = review_text.strip().replace(\"\\t\",\"\").replace(\"\\n\",\"\").replace(\"\\r\",\"\")\n",
    "            star = int(star)\n",
    "            label = 0 if star < 7 else 1\n",
    "            reviews.append([label, comment])\n",
    "    test_data = [[], []]    \n",
    "    for review in reviews:\n",
    "        label = review[0]\n",
    "        comment = review[1]\n",
    "        \n",
    "        test_data[0].append(label)\n",
    "        test_data[1].append(comment)\n"
   ]
  },
  {
   "cell_type": "code",
   "execution_count": 1,
   "metadata": {},
   "outputs": [],
   "source": [
    "from konlpy.tag import Okt\n",
    "import json\n",
    "import os\n",
    "from pprint import pprint\n",
    "\n",
    "okt = Okt()\n",
    "\n",
    "def tokenize(doc):\n",
    "    # norm은 정규화, stem은 근어로 표시하기를 나타냄\n",
    "    return ['/'.join(t) for t in okt.pos(doc, norm=True, stem=True)]\n",
    "\n",
    "if os.path.isfile('train_docs.json'):\n",
    "    with open('train_docs.json', encoding ='UTF-8') as f:\n",
    "        train_docs = json.load(f)\n",
    "    with open('test_docs.json',encoding='UTF-8') as f:\n",
    "        test_docs = json.load(f)\n",
    "else:\n",
    "    train_docs = []\n",
    "    test_docs = []\n",
    "    for i in range(0,len(train_data[0])):\n",
    "        train_docs.append([tokenize(train_data[1][i]), train_data[0][i]])\n",
    "    for i in range(0,len(test_data[0])):\n",
    "        test_docs.append([tokenize(test_data[1][i]), test_data[0][i]])\n",
    "    with open('train_docs.json', 'w', encoding=\"utf-8\") as make_file:\n",
    "        json.dump(train_docs, make_file, ensure_ascii=False, indent=\"\\t\")\n",
    "    with open('test_docs.json', 'w', encoding=\"utf-8\") as make_file:\n",
    "        json.dump(test_docs, make_file, ensure_ascii=False, indent=\"\\t\")"
   ]
  },
  {
   "cell_type": "code",
   "execution_count": 2,
   "metadata": {},
   "outputs": [
    {
     "name": "stderr",
     "output_type": "stream",
     "text": [
      "Using TensorFlow backend.\n"
     ]
    },
    {
     "data": {
      "text/plain": [
       "[20, 23, 40, 155, 141, 99, 68, 56, 20, 5, 60, 34, 2]"
      ]
     },
     "execution_count": 2,
     "metadata": {},
     "output_type": "execute_result"
    }
   ],
   "source": [
    "from keras.preprocessing.text import Tokenizer\n",
    "\n",
    "train_x = [d for d, _ in train_docs]\n",
    "test_x = [d for d, _ in test_docs]\n",
    "train_y = [c for _, c in train_docs]\n",
    "test_y = [c for _, c in test_docs]\n",
    "\n",
    "tokenizer = Tokenizer(num_words=1000)\n",
    "tokenizer.fit_on_texts(train_x)\n",
    "X_train = tokenizer.texts_to_sequences(train_x)\n",
    "X_test = tokenizer.texts_to_sequences(test_x)\n",
    "\n",
    "X_train[2]\n"
   ]
  },
  {
   "cell_type": "code",
   "execution_count": 3,
   "metadata": {},
   "outputs": [
    {
     "name": "stdout",
     "output_type": "stream",
     "text": [
      "10000\n",
      "900\n",
      "10000\n",
      "900\n"
     ]
    },
    {
     "data": {
      "text/plain": [
       "array([  3, 189,  15, 254,  24, 217,  15,   0,   0,   0,   0,   0,   0,\n",
       "         0,   0,   0,   0,   0,   0,   0])"
      ]
     },
     "execution_count": 3,
     "metadata": {},
     "output_type": "execute_result"
    }
   ],
   "source": [
    "from keras.preprocessing.sequence import pad_sequences\n",
    "vocab_size = len(tokenizer.word_index)+1\n",
    "maxlen= 20\n",
    "X_train = pad_sequences(X_train, padding='post', maxlen=maxlen)\n",
    "X_test = pad_sequences(X_test, padding='post', maxlen=maxlen)\n",
    "X_train[5999]\n",
    "print(len(X_train))\n",
    "print(len(X_test))\n",
    "print(len(train_y))\n",
    "print(len(test_y))\n",
    "X_test[1]"
   ]
  },
  {
   "cell_type": "code",
   "execution_count": 4,
   "metadata": {},
   "outputs": [
    {
     "name": "stdout",
     "output_type": "stream",
     "text": [
      "WARNING:tensorflow:From C:\\Anaconda3\\lib\\site-packages\\tensorflow\\python\\keras\\initializers.py:119: calling RandomUniform.__init__ (from tensorflow.python.ops.init_ops) with dtype is deprecated and will be removed in a future version.\n",
      "Instructions for updating:\n",
      "Call initializer instance with the dtype argument instead of passing it to the constructor\n",
      "WARNING:tensorflow:From C:\\Anaconda3\\lib\\site-packages\\tensorflow\\python\\ops\\init_ops.py:1251: calling VarianceScaling.__init__ (from tensorflow.python.ops.init_ops) with dtype is deprecated and will be removed in a future version.\n",
      "Instructions for updating:\n",
      "Call initializer instance with the dtype argument instead of passing it to the constructor\n",
      "WARNING:tensorflow:From C:\\Anaconda3\\lib\\site-packages\\tensorflow\\python\\ops\\nn_impl.py:180: add_dispatch_support.<locals>.wrapper (from tensorflow.python.ops.array_ops) is deprecated and will be removed in a future version.\n",
      "Instructions for updating:\n",
      "Use tf.where in 2.0, which has the same broadcast rule as np.where\n",
      "Train on 8000 samples, validate on 2000 samples\n",
      "Epoch 1/10\n",
      "8000/8000 [==============================] - 6s 731us/sample - loss: 0.1269 - acc: 0.9862 - val_loss: 0.0011 - val_acc: 1.0000\n",
      "Epoch 2/10\n",
      "8000/8000 [==============================] - 3s 382us/sample - loss: 4.3259e-04 - acc: 1.0000 - val_loss: 1.3923e-04 - val_acc: 1.0000\n",
      "Epoch 3/10\n",
      "8000/8000 [==============================] - 3s 384us/sample - loss: 7.2147e-05 - acc: 1.0000 - val_loss: 3.0287e-05 - val_acc: 1.0000\n",
      "Epoch 4/10\n",
      "8000/8000 [==============================] - 3s 395us/sample - loss: 1.5728e-05 - acc: 1.0000 - val_loss: 6.5296e-06 - val_acc: 1.0000\n",
      "Epoch 5/10\n",
      "8000/8000 [==============================] - 3s 319us/sample - loss: 3.4145e-06 - acc: 1.0000 - val_loss: 1.4428e-06 - val_acc: 1.0000\n",
      "Epoch 6/10\n",
      "8000/8000 [==============================] - 5s 593us/sample - loss: 7.7379e-07 - acc: 1.0000 - val_loss: 3.5075e-07 - val_acc: 1.0000\n",
      "Epoch 7/10\n",
      "8000/8000 [==============================] - 5s 655us/sample - loss: 2.0472e-07 - acc: 1.0000 - val_loss: 1.1061e-07 - val_acc: 1.0000\n",
      "Epoch 8/10\n",
      "8000/8000 [==============================] - 5s 660us/sample - loss: 7.5143e-08 - acc: 1.0000 - val_loss: 4.9808e-08 - val_acc: 1.0000\n",
      "Epoch 9/10\n",
      "8000/8000 [==============================] - 3s 367us/sample - loss: 3.6033e-08 - acc: 1.0000 - val_loss: 2.9673e-08 - val_acc: 1.0000\n",
      "Epoch 10/10\n",
      "8000/8000 [==============================] - 3s 335us/sample - loss: 2.9661e-08 - acc: 1.0000 - val_loss: 2.9647e-08 - val_acc: 1.0000\n"
     ]
    }
   ],
   "source": [
    "from tensorflow.keras import models\n",
    "from tensorflow.keras import layers\n",
    "from tensorflow.keras import optimizers\n",
    "from tensorflow.keras import losses\n",
    "from tensorflow.keras import metrics\n",
    "\n",
    "model = models.Sequential()\n",
    "model.add(layers.Embedding(1000,32))\n",
    "model.add(layers.LSTM(32))\n",
    "model.add(layers.Dense(1, activation='sigmoid'))\n",
    "\n",
    "model.compile(optimizer='rmsprop', loss='binary_crossentropy', metrics=['acc'])\n",
    "hist = model.fit(X_train, train_y, \n",
    "                   epochs=10,\n",
    "                   batch_size=128,\n",
    "                   validation_split=0.2)"
   ]
  },
  {
   "cell_type": "code",
   "execution_count": null,
   "metadata": {},
   "outputs": [],
   "source": []
  }
 ],
 "metadata": {
  "kernelspec": {
   "display_name": "Python 3",
   "language": "python",
   "name": "python3"
  },
  "language_info": {
   "codemirror_mode": {
    "name": "ipython",
    "version": 3
   },
   "file_extension": ".py",
   "mimetype": "text/x-python",
   "name": "python",
   "nbconvert_exporter": "python",
   "pygments_lexer": "ipython3",
   "version": "3.7.3"
  }
 },
 "nbformat": 4,
 "nbformat_minor": 2
}
